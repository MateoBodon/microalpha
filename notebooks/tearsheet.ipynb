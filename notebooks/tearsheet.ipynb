{
 "cells": [
  {
   "cell_type": "markdown",
   "id": "b1f5191c",
   "metadata": {},
   "source": [
    "Cell 1: Imports and Setup"
   ]
  },
  {
   "cell_type": "code",
   "execution_count": null,
   "id": "349d717a",
   "metadata": {},
   "outputs": [],
   "source": [
    "import pandas as pd\n",
    "import matplotlib.pyplot as plt\n",
    "import seaborn as sns\n",
    "# Make sure it can find your microalpha library\n",
    "import sys\n",
    "sys.path.append('..')\n",
    "from microalpha.risk import create_sharpe_ratio, create_drawdowns\n",
    "\n",
    "# Set plot style\n",
    "plt.style.use('seaborn-v0_8-darkgrid')"
   ]
  },
  {
   "cell_type": "markdown",
   "id": "6d7bd87d",
   "metadata": {},
   "source": [
    "Cell 2: Load Data and Calculate Metrics"
   ]
  },
  {
   "cell_type": "code",
   "execution_count": null,
   "id": "2cf661a2",
   "metadata": {},
   "outputs": [],
   "source": [
    "# Load the results from our backtest run\n",
    "equity_df = pd.read_csv('../equity_curve.csv', index_col='timestamp', parse_dates=True)\n",
    "equity_df['returns'] = equity_df['equity'].pct_change().fillna(0.0)\n",
    "\n",
    "# Recalculate the key metrics\n",
    "sharpe = create_sharpe_ratio(equity_df['returns'])\n",
    "drawdown_series, max_dd = create_drawdowns(equity_df['equity'])\n",
    "\n",
    "print(\"--- Performance Metrics ---\")\n",
    "print(f\"Sharpe Ratio: {sharpe:.2f}\")\n",
    "print(f\"Maximum Drawdown: {max_dd:.2%}\")\n",
    "print(\"-------------------------\")"
   ]
  },
  {
   "cell_type": "markdown",
   "id": "1caf5237",
   "metadata": {},
   "source": [
    "Cell 3: Plot the Tearsheet"
   ]
  },
  {
   "cell_type": "code",
   "execution_count": null,
   "id": "bdc3a3d9",
   "metadata": {},
   "outputs": [],
   "source": [
    "# Create the main figure and subplots\n",
    "fig, (ax1, ax2) = plt.subplots(2, 1, figsize=(12, 8), sharex=True, gridspec_kw={'height_ratios': [3, 1]})\n",
    "fig.suptitle('Strategy Performance Tearsheet', fontsize=16)\n",
    "\n",
    "# Plot 1: Equity Curve\n",
    "ax1.plot(equity_df.index, equity_df['equity'], label='Equity Curve', color='blue', linewidth=2)\n",
    "ax1.set_title('Portfolio Equity Curve')\n",
    "ax1.set_ylabel('Equity Value ($)')\n",
    "ax1.legend()\n",
    "\n",
    "# Plot 2: Drawdown\n",
    "ax2.fill_between(drawdown_series.index, -drawdown_series * 100, 0,\n",
    "                 color='red', alpha=0.5, label='Drawdown')\n",
    "ax2.set_title('Drawdown')\n",
    "ax2.set_ylabel('Drawdown (%)')\n",
    "ax2.set_xlabel('Date')\n",
    "\n",
    "plt.tight_layout(rect=[0, 0.03, 1, 0.95])\n",
    "plt.show()"
   ]
  }
 ],
 "metadata": {
  "kernelspec": {
   "display_name": "venv",
   "language": "python",
   "name": "python3"
  },
  "language_info": {
   "codemirror_mode": {
    "name": "ipython",
    "version": 3
   },
   "file_extension": ".py",
   "mimetype": "text/x-python",
   "name": "python",
   "nbconvert_exporter": "python",
   "pygments_lexer": "ipython3",
   "version": "3.12.2"
  }
 },
 "nbformat": 4,
 "nbformat_minor": 5
}
